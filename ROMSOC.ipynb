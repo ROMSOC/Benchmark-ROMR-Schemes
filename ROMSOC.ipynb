{
 "cells": [
  {
   "cell_type": "markdown",
   "metadata": {},
   "source": [
    "Benchmark cases for the application of reduced order multirate schemes in a MATLAB/Octave environment\n",
    "============\n",
    "\n",
    "### Reduced Order Multirate Simulation Of Circuits BDF-1\n",
    "\n",
    "This Jupyter notebook parses a netlist *.cir file into matrices and function vectors and casts them in the form:\n",
    "$$\n",
    "       F(x_p,x,t)= Ax + Ex_p + f_p(x) + f_r(t).\n",
    "$$\n",
    "\n",
    "The script of this Jupyter notebook is included in the script ROMSOC.m\n",
    "\n",
    "Copyright 2021 Marcus Bannenberg (BUW, bannenberg@uni-wuppertal.de)"
   ]
  },
  {
   "cell_type": "markdown",
   "metadata": {},
   "source": [
    " ### Octave code to illustrate the accuracy of different model order reduction models\n",
    "\n",
    " Add subfolders to the path: "
   ]
  },
  {
   "cell_type": "code",
   "execution_count": null,
   "metadata": {
    "collapsed": false
   },
   "outputs": [],
   "source": [
    "clear all\n",
    "% Add parser m_files\n",
    "addpath(genpath('Parser'));\n",
    "% Add components m_files\n",
    "addpath(genpath('Components'));\n",
    "% Add numerical m_files\n",
    "addpath(genpath('Numerical'));\n",
    "% Add circuits\n",
    "addpath(genpath('Circuits'));"
   ]
  },
  {
   "cell_type": "markdown",
   "metadata": {},
   "source": [
    "Select circuit *.cir file from the Circuit subfolder:"
   ]
  },
  {
   "cell_type": "code",
   "execution_count": null,
   "metadata": {
    "collapsed": false
   },
   "outputs": [],
   "source": [
    "% Select circuit\n",
    "% fname = 'multirate_example_long_nonlin.cir';\n",
    "fname = 'multirate_example.cir';\n",
    "\n",
    "% Parse the netlist to matrices and function vectors\n",
    "[E, A, func_p, func_r, x0] = parse_netlist(fname);\n",
    "\n",
    "% Set simulation parameters\n",
    "t_0 = 0; t_end = 0.004;\n",
    "N = 100; m = 20;\n",
    "t = linspace(t_0,t_end,m*N+1);\n",
    "tol = 1e-8;\n",
    "\n",
    "M = numel(x0);\n",
    "idx_A = [1:3 M]';\n",
    "idx_L = [4:M-1]';"
   ]
  },
  {
   "cell_type": "markdown",
   "metadata": {},
   "source": [
    "Compute reference solution using ode15s solver:"
   ]
  },
  {
   "cell_type": "code",
   "execution_count": null,
   "metadata": {
    "collapsed": false
   },
   "outputs": [],
   "source": [
    "try\n",
    "    B = strcat(regexprep(cellfun(@func2str, func_p, 'uni', 0), {'^@\\(x\\)','\\s'}, ''), ';');\n",
    "    func_p_ode =  str2func(strcat('@(x) [', B{:}, ']'));\n",
    "    \n",
    "    B = strcat(regexprep(cellfun(@func2str, func_r, 'uni', 0), {'^@\\(t\\)','\\s'}, ''), ';');\n",
    "    func_r_ode =  str2func(strcat('@(t) [', B{:}, ']'));\n",
    "\n",
    "    f = @(t,x) -A*x - func_p_ode(x) - func_r_ode(t);\n",
    "    opts = odeset('Mass',E,'RelTol',1e-13);\n",
    "    disp('Solving the circuit with ode15s');\n",
    "    tic\n",
    "    [t_ref,y_ref] = ode15s(f,t,x0,opts);\n",
    "    toc\n",
    "    y_ref = y_ref';\n",
    "    \n",
    "    \n",
    "    Y = zeros(size(y_ref));\n",
    "    for i = 1:numel(t)\n",
    "        Y(:,i) = func_p_ode(y_ref(:,i));\n",
    "    end\n",
    "\n",
    "\n",
    "    X = Y;\n",
    "    X_diff = X(:,2:end)-X(:,1:end-1); \n",
    "    epsilon = epsilon_procedure(X_diff);\n",
    "    mor_object.U_gap = mess(X_diff,0.1);\n",
    "    mor_object.g = size(mor_object.U_gap,2);\n",
    "\n",
    "    [mor_object.S, mor_object.M, mor_object.U_gap_S, mor_object.idx] = gappypod(mor_object.U_gap);\n",
    "    \n",
    "    X = Y;\n",
    "    X_diff = y_ref(idx_L,2:end) - y_ref(idx_L,1:end-1);\n",
    "    epsilon = epsilon_procedure(X_diff);\n",
    "    u = mess(X_diff,epsilon);\n",
    "    r_mess = size(u,2);                                                     \n",
    "    mor_object.r = r_mess;\n",
    "    mor_object.dim_org = size(y_ref,2); \n",
    "    mor_object.U_r = u;\n",
    "\n",
    "    mor_object.Phi = mor_object.U_r.';\n",
    "    mor_object.dim_A = numel(idx_A); mor_object.dim_L = numel(idx_L);\n",
    "\n",
    "    Phi_full = zeros(mor_object.r+numel(idx_A),numel(idx_A)+numel(idx_L));\n",
    "    Phi_full(idx_A(idx_A < idx_L(1)),idx_A(idx_A < idx_L(1))) = eye(size(idx_A(idx_A<idx_L(1)),1));\n",
    "    Phi_full(idx_L(1):idx_L(1) + mor_object.r-1,idx_L(1):idx_L(1) + numel(idx_L)-1) = mor_object.Phi;\n",
    "    \n",
    "    % second block starting point\n",
    "    sbsp = numel(idx_A(idx_A < idx_L(1))) + mor_object.r + 1;\n",
    "    Phi_full(sbsp:end,idx_A(idx_A>idx_L(end))) = eye(numel(idx_A(idx_A>idx_L(end))));\n",
    "    mor_object.Phi = Phi_full;\n",
    "    U_r_full = zeros(numel(idx_A)+numel(idx_L),mor_object.r+numel(idx_A));\n",
    "    U_r_full(idx_A(idx_A < idx_L(1)),idx_A(idx_A < idx_L(1))) = eye(size(idx_A(idx_A<idx_L(1)),1));\n",
    "    U_r_full(idx_L(1):idx_L(1) + numel(idx_L)-1,idx_L(1):idx_L(1) + mor_object.r-1) = mor_object.U_r;\n",
    "    \n",
    "    % second block starting point\n",
    "    sbsp = numel(idx_A(idx_A < idx_L(1))) + mor_object.r + 1;\n",
    "    U_r_full(idx_A(idx_A>idx_L(end)),sbsp:end) = eye(numel(idx_A(idx_A>idx_L(end))));\n",
    "    mor_object.U_r = U_r_full;    \n",
    "catch\n",
    "    disp('Reference solver failed');\n",
    "end"
   ]
  },
  {
   "cell_type": "markdown",
   "metadata": {},
   "source": [
    "Loop for checking accuracy using different time steps"
   ]
  },
  {
   "cell_type": "code",
   "execution_count": 4,
   "metadata": {
    "collapsed": false
   },
   "outputs": [],
   "source": [
    "% Array of the number of time steps mulitplied by a factor 2\n",
    "N_list = N*2.^[0:3];\n",
    "for i = 1:numel(N_list)\n",
    "    N = N_list(i);\n",
    "    t_mr = linspace(t_0,t_end,m*N+1);\n",
    "    t = linspace(t_0,t_end,N+1);\n",
    "    tol = 1e-8;\n",
    "    disp('Solving the circuit with ROMRBDF-1');\n",
    "    tic\n",
    "    [t_mr, y_romrbdf] = ROMRBDF(E, A, func_p, func_r, x0,t_mr,1,tol,m,mor_object);\n",
    "    romr_timer(i) = toc\n",
    "    \n",
    "    disp('Solving the circuit with MRBDF-1');\n",
    "    tic\n",
    "    [t_mr, y_mrbdf] = MRBDF(E, A, func_p, func_r, x0,t_mr,1,tol,m);\n",
    "    mr_timer(i) = toc\n",
    "    \n",
    "\n",
    "    disp('Solving the circuit with BDF-1');\n",
    "    tic\n",
    "    [t_bdf, y_bdf] = BDF(E, A, func_p, func_r, x0,t,1,tol);\n",
    "    timer(i) = toc\n",
    "    \n",
    "\n",
    "    error_ROMRBDF(:,i) = abs(y_romrbdf(:,end) - y_ref(:,end));\n",
    "    error_MRBDF(:,i) = abs(y_mrbdf(:,end) - y_ref(:,end));\n",
    "    error_BDF(:,i) = abs(y_bdf(:,end) - y_ref(:,end));\n",
    "end"
   ]
  },
  {
   "cell_type": "markdown",
   "metadata": {},
   "source": [
    "Plot error in terms of the number of time steps"
   ]
  },
  {
   "cell_type": "code",
   "execution_count": null,
   "metadata": {
    "collapsed": false
   },
   "outputs": [],
   "source": [
    "% Set colors  for plotting\n",
    "color_blue = [0, 0.4470, 0.7410];\n",
    "color_red = [0.8500, 0.3250, 0.0980];\n",
    "color_yellow = [0.9290, 0.6940, 0.1250];\n",
    "\n",
    "% Create figure\n",
    "h = figure();\n",
    "loglog(N_list,error_BDF(3,:)','o-','LineWidth',2,'Color',color_blue,'MarkerSize',8); hold on;\n",
    "loglog(N_list,(error_BDF(3,1)./(2.^[1:numel(N_list)]))','LineWidth',2,'color','black');\n",
    "loglog(N_list,error_ROMRBDF(3,:)','+-','LineWidth',2,'Color',color_red,'MarkerSize',8); \n",
    "legend('BDF','O(H)','ROMR');\n",
    "grid on;\n",
    "title('Convergence of the error');\n",
    "xlabel('Number of macro steps');\n",
    "ylabel('|u^{ref}_{3} - u_3|');\n",
    "axis([N_list(1)*0.9 N_list(end)*1.1 error_ROMRBDF(3,end)*0.5 error_BDF(3,1)*1.5]);\n",
    "set(gca, 'FontName', 'Times New Roman','FontSize',14);"
   ]
  },
  {
   "cell_type": "markdown",
   "metadata": {},
   "source": [
    "Plot error in terms of the computational time"
   ]
  },
  {
   "cell_type": "code",
   "execution_count": null,
   "metadata": {},
   "outputs": [],
   "source": [
    "figure()\n",
    "loglog(timer,error_BDF(3,:)','o-','LineWidth',2,'Color',color_blue,'MarkerSize',8); hold on;\n",
    "loglog(1e2*(2.^[0:numel(timer)-1]),(6e-5./(2.^[0:numel(timer)-1]))','LineWidth',2,'color','black');\n",
    "loglog(mr_timer,error_MRBDF(3,:)','o-','LineWidth',2,'Color',color_yellow,'MarkerSize',8); \n",
    "loglog(romr_timer,error_ROMRBDF(3,:)','+-','LineWidth',2,'Color',color_red,'MarkerSize',8);\n",
    "grid on;\n",
    "title('Computation time vs the error');\n",
    "xlabel('Computation time in seconds');\n",
    "ylabel('|u^{ref}_{3} - u_3|');\n",
    "axis([romr_timer(1)*0.9 mr_timer(end)*1.1 error_ROMRBDF(3,end)*0.5 error_BDF(3,1)*1.5]);\n",
    "set(gca, 'FontName', 'Times New Roman','FontSize',14);\n",
    "legend('BDF','O(H)','MR','ROMR');"
   ]
  }
 ],
 "metadata": {
  "anaconda-cloud": {},
  "kernelspec": {
   "display_name": "Octave",
   "language": "octave",
   "name": "octave"
  },
  "language_info": {
   "file_extension": ".m",
   "help_links": [
    {
     "text": "MetaKernel Magics",
     "url": "https://github.com/calysto/metakernel/blob/master/metakernel/magics/README.md"
    }
   ],
   "mimetype": "text/x-octave",
   "name": "octave",
   "version": "0.19.17"
  }
 },
 "nbformat": 4,
 "nbformat_minor": 0
}
